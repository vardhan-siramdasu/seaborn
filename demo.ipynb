import time as t
a=t.time()
for i in range(1000):
	for j in range(1000):
		pass
print(t.time-a)